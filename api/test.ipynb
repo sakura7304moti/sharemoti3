{
 "cells": [
  {
   "cell_type": "code",
   "execution_count": 1,
   "metadata": {},
   "outputs": [
    {
     "data": {
      "text/plain": [
       "'/Users/sakura0moti/Documents/git/sharemoti3/api/arhcive/revmg_temp'"
      ]
     },
     "execution_count": 1,
     "metadata": {},
     "output_type": "execute_result"
    }
   ],
   "source": [
    "from src.route.service.module.utils import const\n",
    "path = const.Path()\n",
    "path.rembg_temp"
   ]
  },
  {
   "cell_type": "code",
   "execution_count": 3,
   "metadata": {},
   "outputs": [],
   "source": [
    "import sqlite3\n",
    "dbname = '/Volumes/share/server/git/sharemotiApi2/main/share.db'\n",
    "conn = sqlite3.connect(dbname)\n",
    "# sqliteを操作するカーソルオブジェクトを作成\n",
    "cur = conn.cursor()\n",
    "\n",
    "# wordlistというtableを作成してみる\n",
    "# 大文字部はSQL文。小文字でも問題ない。\n",
    "cur.execute(\n",
    "    \"\"\"Delete from wordList2 where desc like '%\"%'\n",
    "            \"\"\"\n",
    ")\n",
    "\n",
    "# データベースへコミット。これで変更が反映される。\n",
    "conn.commit()\n",
    "conn.close()"
   ]
  }
 ],
 "metadata": {
  "kernelspec": {
   "display_name": "base",
   "language": "python",
   "name": "python3"
  },
  "language_info": {
   "codemirror_mode": {
    "name": "ipython",
    "version": 3
   },
   "file_extension": ".py",
   "mimetype": "text/x-python",
   "name": "python",
   "nbconvert_exporter": "python",
   "pygments_lexer": "ipython3",
   "version": "3.11.5"
  }
 },
 "nbformat": 4,
 "nbformat_minor": 2
}

{
 "cells": [
  {
   "cell_type": "markdown",
   "id": "140068df-696a-4f64-814f-603a54457e7c",
   "metadata": {},
   "source": [
    "## constの関数実行テスト"
   ]
  },
  {
   "cell_type": "code",
   "execution_count": 2,
   "id": "dcf72114-9acd-4be9-8fa4-a3a8bd20e136",
   "metadata": {
    "execution": {
     "iopub.execute_input": "2024-07-05T21:45:52.358625Z",
     "iopub.status.busy": "2024-07-05T21:45:52.358221Z",
     "iopub.status.idle": "2024-07-05T21:45:52.362342Z",
     "shell.execute_reply": "2024-07-05T21:45:52.361664Z",
     "shell.execute_reply.started": "2024-07-05T21:45:52.358598Z"
    }
   },
   "outputs": [],
   "source": [
    "from src.route.service.module.utils import const\n",
    "\n",
    "opt = const.Option()"
   ]
  },
  {
   "cell_type": "code",
   "execution_count": 3,
   "id": "4a00b76b-df7c-483c-98ed-fb5d3dbfe8ae",
   "metadata": {
    "execution": {
     "iopub.execute_input": "2024-07-05T21:46:00.548779Z",
     "iopub.status.busy": "2024-07-05T21:46:00.548443Z",
     "iopub.status.idle": "2024-07-05T21:46:00.556998Z",
     "shell.execute_reply": "2024-07-05T21:46:00.556534Z",
     "shell.execute_reply.started": "2024-07-05T21:46:00.548755Z"
    }
   },
   "outputs": [
    {
     "data": {
      "text/plain": [
       "['ときのそら',\n",
       " 'ロボ子さん',\n",
       " 'さくらみこ',\n",
       " '星街すいせい',\n",
       " 'AZki',\n",
       " '夜空メル',\n",
       " 'アキ・ローゼンタール',\n",
       " '赤井はあと',\n",
       " '白上フブキ',\n",
       " '夏色まつり',\n",
       " '湊あくあ',\n",
       " '紫咲シオン',\n",
       " '癒月ちょこ',\n",
       " '大空スバル',\n",
       " '百鬼あやめ',\n",
       " '大神ミオ',\n",
       " '猫又おかゆ',\n",
       " '戌神ころね',\n",
       " '兎田ぺこら',\n",
       " '潤羽るしあ',\n",
       " '不知火フレア',\n",
       " '白銀ノエル',\n",
       " '宝鐘マリン',\n",
       " '天音かなた',\n",
       " '角巻わため',\n",
       " '常闇トワ',\n",
       " '姫森ルーナ',\n",
       " '桐生ココ',\n",
       " '雪花ラミィ',\n",
       " '桃鈴ねね',\n",
       " '獅白ぼたん',\n",
       " '尾丸ポルカ',\n",
       " '魔乃アロエ',\n",
       " 'ラプラス・ダークネス',\n",
       " '高嶺ルイ',\n",
       " '博衣こより',\n",
       " '沙花叉クロヱ',\n",
       " '風真いろは',\n",
       " 'Airani Iofifteen',\n",
       " 'Moona Hoshinova',\n",
       " 'Ayunda Risu',\n",
       " 'Kureiji Ollie',\n",
       " 'Anya Melfissa',\n",
       " 'Pavolia Reine',\n",
       " 'Vestia Zeta',\n",
       " 'Kaela Kovalskia',\n",
       " 'Kobo Kanaeru',\n",
       " 'Mori Calliope',\n",
       " 'Takanashi Kiara',\n",
       " \"Ninomae Ina'nis\",\n",
       " 'Gawr Gura',\n",
       " 'Watson Amelia',\n",
       " 'IRyS',\n",
       " '九十九佐命',\n",
       " 'Ceres Fauna',\n",
       " 'Ouro Kronii',\n",
       " 'Nanashi Mumei',\n",
       " 'Hakos Baelz',\n",
       " 'シオリ・ノヴェラ',\n",
       " '古石ビジュー',\n",
       " 'ネリッサ・レイヴンクロフト',\n",
       " 'モココ・アビスガード',\n",
       " 'フワワ・アビスガード',\n",
       " '火威青',\n",
       " '音乃瀬奏',\n",
       " '一条莉々華',\n",
       " '儒烏風亭らでん',\n",
       " '轟はじめ',\n",
       " 'エリザベス・ローズ・ブラッドフレイム',\n",
       " 'ジジ・ムリン',\n",
       " 'セシリア・イマーグリーン',\n",
       " 'ラオーラ・パンテーラ',\n",
       " '友人A',\n",
       " '春先のどか']"
      ]
     },
     "execution_count": 3,
     "metadata": {},
     "output_type": "execute_result"
    }
   ],
   "source": [
    "# ホロメン一覧\n",
    "opt.holo_wiki_members()"
   ]
  },
  {
   "cell_type": "code",
   "execution_count": 4,
   "id": "31c3043d-cb0e-4e46-9841-85b5b75a4ec3",
   "metadata": {
    "execution": {
     "iopub.execute_input": "2024-07-05T21:46:42.144810Z",
     "iopub.status.busy": "2024-07-05T21:46:42.144163Z",
     "iopub.status.idle": "2024-07-05T21:46:42.165997Z",
     "shell.execute_reply": "2024-07-05T21:46:42.163070Z",
     "shell.execute_reply.started": "2024-07-05T21:46:42.144782Z"
    }
   },
   "outputs": [
    {
     "name": "stdout",
     "output_type": "stream",
     "text": [
      "#soraArt https://hololive.hololivepro.com/wp-content/uploads/2021/05/tokino_sora_thumb.png\n",
      "#ロボ子Art https://hololive.hololivepro.com/wp-content/uploads/2020/06/roboco-san_thumb.png\n",
      "#miko_Art https://hololive.hololivepro.com/wp-content/uploads/2023/02/Sakura-Miko_thumb.png\n",
      "#ほしまちぎゃらりー https://hololive.hololivepro.com/wp-content/uploads/2023/04/Hoshimachi-Suisei_list_thumb-1.png\n",
      "#AZKiART https://hololive.hololivepro.com/wp-content/uploads/2022/12/AZKi_list_thumb.png\n",
      "#メルArt https://pbs.twimg.com/media/GIM-JapbkAAb1Rd?format=jpg\n",
      "#アロ絵 https://hololive.hololivepro.com/wp-content/uploads/2023/04/Aki-Rosenthal_list_thumb.png\n",
      "#はあとart https://hololive.hololivepro.com/wp-content/uploads/2023/04/Akai-Haato_list_thumb.png\n",
      "#絵フブキ https://hololive.hololivepro.com/wp-content/uploads/2020/06/Shirakami-Fubuki_list_thumb.png\n",
      "#祭絵 https://hololive.hololivepro.com/wp-content/uploads/2023/04/Natsuiro-Matsuri_list_thumb.png\n",
      "#あくあーと https://hololive.hololivepro.com/wp-content/uploads/2023/04/Minato-Aqua_list_thumb.png\n",
      "#シオンの書物 https://hololive.hololivepro.com/wp-content/uploads/2021/12/shion_thumb.png\n",
      "#しょこらーと https://hololive.hololivepro.com/wp-content/uploads/2023/04/Yuzuki-Choco_list_thumb.png\n",
      "#プロテインザスバル https://hololive.hololivepro.com/wp-content/uploads/2020/06/Oozora-Subaru_list_thumb.png\n",
      "#百鬼絵巻 https://hololive.hololivepro.com/wp-content/uploads/2020/06/Nakiri-Ayame_list_thumb.png\n",
      "#みおーん絵 https://hololive.hololivepro.com/wp-content/uploads/2023/01/Ookami-Mio_thumb.png\n",
      "#絵かゆ https://hololive.hololivepro.com/wp-content/uploads/2020/06/Nekomata-Okayu_list_thumb.png\n",
      "#できたてころね https://hololive.hololivepro.com/wp-content/uploads/2023/04/Inugami-Korone_list_thumb.png\n",
      "#ぺこらーと https://hololive.hololivepro.com/wp-content/uploads/2023/04/Usada-Pekora_list_thumb.png\n",
      "#絵クロマンサー https://pbs.twimg.com/media/FwkKIYEaYAEJcXG?format=jpg\n",
      "#しらぬえ https://hololive.hololivepro.com/wp-content/uploads/2023/04/Shiranui-Flare_list_thumb.png\n",
      "#ノエラート https://hololive.hololivepro.com/wp-content/uploads/2023/01/Shirogane-Noel_thumb.png\n",
      "#マリンのお宝 https://hololive.hololivepro.com/wp-content/uploads/2021/05/houshou_marine_thumb.png\n",
      "#かなたーと https://hololive.hololivepro.com/wp-content/uploads/2023/04/Amane-Kanata_list_thumb.png\n",
      "#つのまきあーと https://hololive.hololivepro.com/wp-content/uploads/2023/04/Tsunomaki-Watame_list_thumb-1.png\n",
      "#TOWART https://hololive.hololivepro.com/wp-content/uploads/2020/06/Tokoyami-Towa_list_thumb.png\n",
      "#ルーナート https://hololive.hololivepro.com/wp-content/uploads/2020/06/Himemori-Luna_list_thumb.png\n",
      "#みかじ絵 https://hololive.hololivepro.com/wp-content/uploads/2023/04/Kiryu-Coco_list_thumb-1.png\n",
      "#LamyArt https://hololive.hololivepro.com/wp-content/uploads/2020/06/Yukihana-Lamy_list_thumb.png\n",
      "#ねねアルバム https://hololive.hololivepro.com/wp-content/uploads/2020/06/Momosuzu-Nene_list_thumb.png\n",
      "#ししらーと https://hololive.hololivepro.com/wp-content/uploads/2024/05/Shishiro-Botan_list_thumb.png\n",
      "#絵まる https://hololive.hololivepro.com/wp-content/uploads/2024/06/Omaru-Polka_list_thumb.png\n",
      "#まのあろ絵 https://pbs.twimg.com/media/Fw5tKH1XwAA57wG?format=jpg&name=orig\n",
      "#Laplus_Artdesu https://hololive.hololivepro.com/wp-content/uploads/2024/05/La-Darknesss_list_thumb.png\n",
      "#Luillust https://hololive.hololivepro.com/wp-content/uploads/2020/07/Takane-Lui_list_thumb.png\n",
      "#こよりすけっち https://hololive.hololivepro.com/wp-content/uploads/2020/07/Hakui-Koyori_list_thumb.png\n",
      "#さかまた飼育日記 https://hololive.hololivepro.com/wp-content/uploads/2020/07/Sakamata-Chloe_list_thumb.png\n",
      "#いろはにも絵を https://hololive.hololivepro.com/wp-content/uploads/2020/07/Kazama-Iroha_list_thumb.png\n",
      "#ioarts https://hololive.hololivepro.com/wp-content/uploads/2022/04/%E3%83%AA%E3%82%B9-1.png\n",
      "#HoshinovArt https://hololive.hololivepro.com/wp-content/uploads/2022/04/ムーナ-1.png\n",
      "#GambaRisu https://hololive.hololivepro.com/wp-content/uploads/2022/04/%E3%82%A4%E3%82%AA%E3%83%95%E3%82%A3-1.png\n",
      "#graveyART https://hololive.hololivepro.com/wp-content/uploads/2024/06/Kureiji-Ollie_list_thumb.png\n",
      "#anyatelier https://hololive.hololivepro.com/wp-content/uploads/2020/07/Anya-Melfissa_list_thumb.png\n",
      "#Reinessance https://hololive.hololivepro.com/wp-content/uploads/2020/07/Pavolia-Reine_list_thumb.png\n",
      "#Zetacrylic https://hololive.hololivepro.com/wp-content/uploads/2022/03/1_%E3%83%99%E3%82%B9%E3%83%86%E3%82%A3%E3%82%A2%E3%83%BB%E3%82%BC%E3%83%BC%E3%82%BF.png\n",
      "#inKaela https://hololive.hololivepro.com/wp-content/uploads/2022/03/2_%E3%82%AB%E3%82%A8%E3%83%A9%E3%83%BB%E3%82%B3%E3%83%B4%E3%82%A1%E3%83%AB%E3%82%B9%E3%82%AD%E3%82%A2.png\n",
      "#AeruSeni https://hololive.hololivepro.com/wp-content/uploads/2022/03/3_%E3%81%93%E3%81%BC%E3%83%BB%E3%81%8B%E3%81%AA%E3%81%88%E3%82%8B.png\n",
      "#callillust https://hololive.hololivepro.com/wp-content/uploads/2022/04/%E3%82%AB%E3%83%AA%E3%82%AA%E3%83%9A.png\n",
      "#カリイラスト https://hololive.hololivepro.com/wp-content/uploads/2022/04/%E3%82%AB%E3%83%AA%E3%82%AA%E3%83%9A.png\n",
      "#artsofashes https://hololive.hololivepro.com/wp-content/uploads/2023/01/Takanashi-Kiara_thumb.png\n",
      "#絵ニックス https://hololive.hololivepro.com/wp-content/uploads/2023/01/Takanashi-Kiara_thumb.png\n",
      "#inART https://hololive.hololivepro.com/wp-content/uploads/2022/04/%E3%81%84%E3%81%AA%E3%81%AB%E3%81%99.png\n",
      "#いなート https://hololive.hololivepro.com/wp-content/uploads/2022/04/%E3%81%84%E3%81%AA%E3%81%AB%E3%81%99.png\n",
      "#gawrt https://hololive.hololivepro.com/wp-content/uploads/2024/05/Gawr-Gura_list_thumb.png\n",
      "#ameliaRT https://hololive.hololivepro.com/wp-content/uploads/2022/04/%E3%82%A2%E3%83%A1%E3%83%AA%E3%82%A2.png\n",
      "#IRySart https://hololive.hololivepro.com/wp-content/uploads/2020/07/IRyS_list_thumb.png\n",
      "#galaxillust https://hololive.hololivepro.com/wp-content/uploads/2021/08/%E4%B9%9D%E5%8D%81%E4%B9%9D-%E4%BD%90%E5%91%BD-1.png\n",
      "#FineFaunart https://hololive.hololivepro.com/wp-content/uploads/2023/10/Ceres-Fauna_list_thumb.png\n",
      "#faunline https://hololive.hololivepro.com/wp-content/uploads/2023/10/Ceres-Fauna_list_thumb.png\n",
      "#kronillust https://hololive.hololivepro.com/wp-content/uploads/2023/10/Ouro-Kronii_list_thumb.png\n",
      "#クロニーラスト https://hololive.hololivepro.com/wp-content/uploads/2023/10/Ouro-Kronii_list_thumb.png\n",
      "#drawMEI https://hololive.hololivepro.com/wp-content/uploads/2023/10/Nanashi-Mumei_list_thumb.png\n",
      "#ムメ絵 https://hololive.hololivepro.com/wp-content/uploads/2023/10/Nanashi-Mumei_list_thumb.png\n",
      "#illustrayBAE https://hololive.hololivepro.com/wp-content/uploads/2023/10/Hakos-Baelz_list_thumb.png\n",
      "#ベーアート https://hololive.hololivepro.com/wp-content/uploads/2023/10/Hakos-Baelz_list_thumb.png\n",
      "#ShiorinOnAir https://hololive.hololivepro.com/wp-content/uploads/2024/06/Shiori-Novella_list_thumb.png\n",
      "#bijouwled https://hololive.hololivepro.com/wp-content/uploads/2023/07/Koseki-Bijou_list_thumb.png\n",
      "#RavenCrafts https://hololive.hololivepro.com/wp-content/uploads/2023/07/Nerissa-Ravencroft_list_thumb.png\n",
      "#FWMCpix https://hololive.hololivepro.com/wp-content/uploads/2023/07/Mococo-Abyssgard_list_thumb.png\n",
      "#青ペン https://hololive.hololivepro.com/wp-content/uploads/2023/09/Hiodoshi-Ao_list_thumb.png\n",
      "#Artnose https://hololive.hololivepro.com/wp-content/uploads/2023/09/Otonose-Kanade_list_thumb.png\n",
      "#ririkart https://hololive.hololivepro.com/wp-content/uploads/2023/09/Ichijou-Ririka_list_thumb.png\n",
      "#らでん似絵 https://hololive.hololivepro.com/wp-content/uploads/2023/09/Juufuutei-Raden_list_thumb.png\n",
      "#はじめ武勇伝 https://hololive.hololivepro.com/wp-content/uploads/2023/09/Todoroki-Hajime_list_thumb.png\n",
      "#BloodflameArt https://hololive.hololivepro.com/wp-content/uploads/2024/06/Elizabeth-Rose-Bloodflame_list_thumb.png\n",
      "#rkggk https://hololive.hololivepro.com/wp-content/uploads/2024/06/Gigi-Murin_list_thumb.png\n",
      "#Immergination https://hololive.hololivepro.com/wp-content/uploads/2024/06/Cecilia-Immergreen_list_thumb.png\n",
      "#RaorArt https://hololive.hololivepro.com/wp-content/uploads/2024/06/Raora-Panthera_list_thumb.png\n",
      "#AIart #hololive https://pbs.twimg.com/media/F1eVK2oaUAAjMq-?format=jpg&name=orig\n",
      "#絵ーちゃん https://hololive.hololivepro.com/wp-content/uploads/2023/02/FriendA_thumb.png\n",
      "#のどかあーと https://hololive.hololivepro.com/wp-content/uploads/2023/09/Harusaki-Nodoka_list_thumb.png\n"
     ]
    }
   ],
   "source": [
    "# twitter ハッシュタグ\n",
    "for item in opt.twitter_holo_hashtags():\n",
    "    print(item.hashtag, item.url)"
   ]
  },
  {
   "cell_type": "code",
   "execution_count": null,
   "id": "a9fc0f09-5b89-4ff2-997c-c666d2404d8d",
   "metadata": {},
   "outputs": [],
   "source": []
  }
 ],
 "metadata": {
  "kernelspec": {
   "display_name": "Python 3 (ipykernel)",
   "language": "python",
   "name": "python3"
  },
  "language_info": {
   "codemirror_mode": {
    "name": "ipython",
    "version": 3
   },
   "file_extension": ".py",
   "mimetype": "text/x-python",
   "name": "python",
   "nbconvert_exporter": "python",
   "pygments_lexer": "ipython3",
   "version": "3.11.5"
  }
 },
 "nbformat": 4,
 "nbformat_minor": 5
}
